{
 "cells": [
  {
   "cell_type": "markdown",
   "metadata": {},
   "source": [
    "### Neural Networks\n",
    "\n",
    "#### Flow chart for a simple neural network:\n",
    "\n",
    "![importance](https://miro.medium.com/max/584/0*ZJtto33Yo-gc4xPa.png)\n"
   ]
  },
  {
   "cell_type": "markdown",
   "metadata": {},
   "source": [
    "## Required equations\n",
    "\n",
    "### Activation Function\n",
    "Sigmoid:   f(x) = $\\frac{1}{1 + e^{-x}}$"
   ]
  },
  {
   "cell_type": "markdown",
   "metadata": {},
   "source": [
    "### Cost function (MSE)\n",
    "C = $\\sum_{}  \\frac{1}{2} * (target - output)^2$"
   ]
  },
  {
   "cell_type": "markdown",
   "metadata": {},
   "source": [
    "### Gradient Descent\n",
    "$W = W - \\eta * \\frac{\\partial C}{\\partial w} $"
   ]
  },
  {
   "cell_type": "markdown",
   "metadata": {},
   "source": [
    "$\\frac{\\partial C}{\\partial w} = \\frac{\\partial C}{\\partial out} * \\frac{\\partial out}{\\partial in} * \\frac{\\partial in}{\\partial w}$\n",
    "1. $\\frac{\\partial C}{\\partial out} = \\frac{\\partial}{\\partial out} (\\frac{1}{2} * (target - out)^2)\\\\\n",
    "     \\frac{\\partial C}{\\partial out} = out - target$ \n",
    "    \n",
    "   \n",
    "2. $ \\frac{\\partial out}{\\partial in} = \\frac{\\partial}{\\partial in} (\\frac{1}{1 + e^{-in}})\\\\\n",
    "\\frac{\\partial out}{\\partial in} = out * (1 - out) $\n",
    "\n",
    "\n",
    "3. $\\frac{\\partial in}{\\partial w} = \\frac{\\partial}{\\partial w} (w * in)\\\\\n",
    "\\frac{\\partial in}{\\partial w} = in $"
   ]
  },
  {
   "cell_type": "code",
   "execution_count": 47,
   "metadata": {},
   "outputs": [],
   "source": [
    "import numpy as np\n",
    "import pandas as pd"
   ]
  },
  {
   "cell_type": "code",
   "execution_count": 48,
   "metadata": {},
   "outputs": [],
   "source": [
    "#Sigmoid function\n",
    "def sigmoid(x):\n",
    "    return 1/(1+np.exp(-x))\n",
    "\n",
    "#derivative of Sigmoid function\n",
    "def sigmoid_der(x):\n",
    "    # out * (1 - out)\n",
    "    return sigmoid(x)*(1-sigmoid(x))\n"
   ]
  },
  {
   "cell_type": "code",
   "execution_count": 49,
   "metadata": {},
   "outputs": [
    {
     "data": {
      "text/plain": [
       "(3,)"
      ]
     },
     "execution_count": 49,
     "metadata": {},
     "output_type": "execute_result"
    }
   ],
   "source": [
    "#randomly init weights for input and bias\n",
    "w = np.random.randn(3)*1e-4\n",
    "w.shape\n"
   ]
  },
  {
   "cell_type": "code",
   "execution_count": 50,
   "metadata": {},
   "outputs": [],
   "source": [
    "def train(inputs, targets, weights, eta, n_iterations):\n",
    "   \n",
    "    # Add the bias node with the inputs\n",
    "    inputs = np.c_[inputs, -np.ones((len(inputs), 1))]\n",
    "    \n",
    "    for n in range(n_iterations):\n",
    "        #forward input\n",
    "        in_o = np.dot(inputs, weights) #+ bias\n",
    "        \n",
    "        #forward output\n",
    "        out_o = sigmoid(in_o)\n",
    "        \n",
    "        #cost value\n",
    "        cost = out_o - targets\n",
    "        \n",
    "        #calculating derivatives\n",
    "        #1 derivation as per the above equation\n",
    "        dc_dout = cost\n",
    "        \n",
    "        #2 derivation as per the above equation\n",
    "        dout_din = sigmoid_der(out_o)\n",
    "        \n",
    "        #multiplying these 2 derivative\n",
    "        derv = dc_dout * dout_din\n",
    "        \n",
    "        #final derivative is multiplying with input\n",
    "        in_t = inputs.T\n",
    "        der_final = np.dot(in_t, derv)\n",
    "        \n",
    "        #updating weights\n",
    "        weights -= eta * der_final\n",
    "        \n",
    "    return weights"
   ]
  },
  {
   "cell_type": "code",
   "execution_count": 66,
   "metadata": {},
   "outputs": [
    {
     "data": {
      "text/html": [
       "<div>\n",
       "<style scoped>\n",
       "    .dataframe tbody tr th:only-of-type {\n",
       "        vertical-align: middle;\n",
       "    }\n",
       "\n",
       "    .dataframe tbody tr th {\n",
       "        vertical-align: top;\n",
       "    }\n",
       "\n",
       "    .dataframe thead th {\n",
       "        text-align: right;\n",
       "    }\n",
       "</style>\n",
       "<table border=\"1\" class=\"dataframe\">\n",
       "  <thead>\n",
       "    <tr style=\"text-align: right;\">\n",
       "      <th></th>\n",
       "      <th>x1</th>\n",
       "      <th>x2</th>\n",
       "      <th>y</th>\n",
       "    </tr>\n",
       "  </thead>\n",
       "  <tbody>\n",
       "    <tr>\n",
       "      <td>0</td>\n",
       "      <td>0</td>\n",
       "      <td>0</td>\n",
       "      <td>0</td>\n",
       "    </tr>\n",
       "    <tr>\n",
       "      <td>1</td>\n",
       "      <td>0</td>\n",
       "      <td>1</td>\n",
       "      <td>1</td>\n",
       "    </tr>\n",
       "    <tr>\n",
       "      <td>2</td>\n",
       "      <td>1</td>\n",
       "      <td>0</td>\n",
       "      <td>1</td>\n",
       "    </tr>\n",
       "    <tr>\n",
       "      <td>3</td>\n",
       "      <td>1</td>\n",
       "      <td>1</td>\n",
       "      <td>1</td>\n",
       "    </tr>\n",
       "  </tbody>\n",
       "</table>\n",
       "</div>"
      ],
      "text/plain": [
       "   x1  x2  y\n",
       "0   0   0  0\n",
       "1   0   1  1\n",
       "2   1   0  1\n",
       "3   1   1  1"
      ]
     },
     "execution_count": 66,
     "metadata": {},
     "output_type": "execute_result"
    }
   ],
   "source": [
    "AND = pd.DataFrame({'x1': (0,0,1,1), 'x2': (0,1,0,1), 'y': (0,0,0,1)})\n",
    "AND\n",
    "\n",
    "OR = pd.DataFrame({'x1': (0,0,1,1), 'x2': (0,1,0,1), 'y': (0,1,1,1)})\n",
    "OR"
   ]
  },
  {
   "cell_type": "code",
   "execution_count": 67,
   "metadata": {},
   "outputs": [],
   "source": [
    "inputs = OR[['x1','x2']]\n",
    "target = OR['y']\n",
    "\n",
    "#training my network\n",
    "w = train(inputs, target, w, 0.25, 4000)"
   ]
  },
  {
   "cell_type": "code",
   "execution_count": 68,
   "metadata": {},
   "outputs": [
    {
     "data": {
      "text/plain": [
       "array([3.90675901e-04, 9.98222572e-01, 9.98222572e-01, 9.99999999e-01])"
      ]
     },
     "execution_count": 68,
     "metadata": {},
     "output_type": "execute_result"
    }
   ],
   "source": [
    "# testing my network\n",
    "input_o = np.c_[inputs, -np.ones((len(inputs), 1))]\n",
    "\n",
    "#creating input using the training weight\n",
    "result_in = np.dot(input_o, w)\n",
    "\n",
    "sigmoid(result_in)"
   ]
  },
  {
   "cell_type": "code",
   "execution_count": null,
   "metadata": {},
   "outputs": [],
   "source": []
  }
 ],
 "metadata": {
  "kernelspec": {
   "display_name": "Python 3",
   "language": "python",
   "name": "python3"
  },
  "language_info": {
   "codemirror_mode": {
    "name": "ipython",
    "version": 3
   },
   "file_extension": ".py",
   "mimetype": "text/x-python",
   "name": "python",
   "nbconvert_exporter": "python",
   "pygments_lexer": "ipython3",
   "version": "3.7.4"
  }
 },
 "nbformat": 4,
 "nbformat_minor": 2
}
